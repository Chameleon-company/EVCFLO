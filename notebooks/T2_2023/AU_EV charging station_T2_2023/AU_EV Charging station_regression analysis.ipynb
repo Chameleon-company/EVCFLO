{
 "cells": [
  {
   "cell_type": "code",
   "execution_count": 51,
   "id": "382ffc81",
   "metadata": {},
   "outputs": [],
   "source": [
    "import pandas as pd\n",
    "from sklearn.model_selection import train_test_split\n",
    "from sklearn.linear_model import LinearRegression\n",
    "from sklearn.metrics import mean_squared_error, r2_score\n",
    "from sklearn.preprocessing import MinMaxScaler\n",
    "import matplotlib.pyplot as plt\n",
    "import seaborn as sns\n",
    "\n",
    "# Read the CSV file\n",
    "df = pd.read_csv('New_Australian_EV_Charging_Stations.csv')\n"
   ]
  },
  {
   "cell_type": "markdown",
   "id": "971d5a99",
   "metadata": {},
   "source": [
    "## Linear relationship between different plug"
   ]
  },
  {
   "cell_type": "markdown",
   "id": "c368824c",
   "metadata": {},
   "source": [
    "## 1: Plugs_Type2"
   ]
  },
  {
   "cell_type": "code",
   "execution_count": 73,
   "id": "93cf36dd",
   "metadata": {},
   "outputs": [
    {
     "name": "stdout",
     "output_type": "stream",
     "text": [
      "R-squared: 0.23172478143364983\n",
      "Regression Coefficients: [-0.01847376  0.5335442  -0.03277799  0.07135938  0.00382872  0.0123733\n",
      "  0.03545884 -0.03266865]\n",
      "Mean Squared Error: 3.4074144630450434\n"
     ]
    }
   ],
   "source": [
    "##simple linear regression## - set y as 'Plugs_Type2'\n",
    "\n",
    "##setting features and target\n",
    "X = df[['Power 1','charging_stations', 'Nearby EVStations', 'Hospitals', 'Parks', 'Restaurants', 'Malls', 'Supermarkets']]\n",
    "y = df['Plugs_Type2']\n",
    "\n",
    "X_train, X_test, y_train, y_test = train_test_split(X, y, test_size=0.2, random_state=42)\n",
    "\n",
    "model = LinearRegression()\n",
    "\n",
    "model.fit(X_train, y_train)\n",
    "\n",
    "y_pred = model.predict(X_test)\n",
    "\n",
    "##calculate the Mean Squared Error of the predictions\n",
    "mse = mean_squared_error(y_test, y_pred)\n",
    "score_simple = model.score(X_test, y_test)\n",
    "print(f'R-squared: {score_simple}')\n",
    "print(\"Regression Coefficients:\", model.coef_)\n",
    "print(\"Mean Squared Error:\", mse)\n"
   ]
  },
  {
   "cell_type": "code",
   "execution_count": 75,
   "id": "c8c5a652",
   "metadata": {},
   "outputs": [
    {
     "name": "stdout",
     "output_type": "stream",
     "text": [
      "R-squared: 0.23172478143364938\n",
      "Regression Coefficients: [-6.4288669  10.67088392 -0.65555982  1.14175009  0.0765744   0.24746593\n",
      "  0.70917685 -0.65337302]\n",
      "Intercept: 0.6926061544530675\n"
     ]
    }
   ],
   "source": [
    "##linear regression with MinMaxSacler## - set y as 'Plugs_Type2'\n",
    "\n",
    "##setting features and target\n",
    "X = df[['Power 1','charging_stations', 'Nearby EVStations', 'Hospitals', 'Parks', 'Restaurants', 'Malls', 'Supermarkets']]\n",
    "y = df['Plugs_Type2']\n",
    "\n",
    "##data transformation\n",
    "scaler = MinMaxScaler()\n",
    "X_scaled = scaler.fit_transform(X)\n",
    "\n",
    "##split data into training and test sets\n",
    "X_train, X_test, y_train, y_test = train_test_split(X_scaled, y, test_size=0.2, random_state=42)\n",
    "\n",
    "##train the model\n",
    "model = LinearRegression()\n",
    "model.fit(X_train, y_train)\n",
    "\n",
    "y_pred = model.predict(X_test)\n",
    "\n",
    "# Scoring the model\n",
    "score = model.score(X_test, y_test)\n",
    "print(f\"R-squared: {score}\")\n",
    "print(f\"Regression Coefficients: {model.coef_}\")\n",
    "print(f\"Intercept: {model.intercept_}\")\n"
   ]
  },
  {
   "cell_type": "markdown",
   "id": "3606b1fd",
   "metadata": {},
   "source": [
    "## 2:Plugs_Three_Phase"
   ]
  },
  {
   "cell_type": "code",
   "execution_count": 54,
   "id": "12db7061",
   "metadata": {},
   "outputs": [
    {
     "name": "stdout",
     "output_type": "stream",
     "text": [
      "Regression Coefficients: [-8.49472959e-05  1.01769218e-03 -2.81262425e-03 -5.77034368e-03\n",
      " -4.52550553e-03  1.18751398e-04 -3.62616632e-04  8.29588387e-03]\n",
      "Mean Squared Error: 0.0025070673593749052\n"
     ]
    }
   ],
   "source": [
    "##simple linear regression## - set y as 'Plugs_Three_Phase'\n",
    "\n",
    "X = df[['Power 1','charging_stations', 'Nearby EVStations', 'Hospitals', 'Parks', 'Restaurants', 'Malls', 'Supermarkets']]\n",
    "y = df['Plugs_Three_Phase']\n",
    "\n",
    "X_train, X_test, y_train, y_test = train_test_split(X, y, test_size=0.2, random_state=42)\n",
    "\n",
    "model = LinearRegression()\n",
    "\n",
    "model.fit(X_train, y_train)\n",
    "\n",
    "y_pred = model.predict(X_test)\n",
    "\n",
    "# Calculate the Mean Squared Error of the predictions\n",
    "mse = mean_squared_error(y_test, y_pred)\n",
    "\n",
    "print(\"Regression Coefficients:\", model.coef_)\n",
    "print(\"Mean Squared Error:\", mse)"
   ]
  },
  {
   "cell_type": "code",
   "execution_count": 27,
   "id": "d404a893",
   "metadata": {},
   "outputs": [
    {
     "name": "stdout",
     "output_type": "stream",
     "text": [
      "R-squared: -4.01493826598038\n",
      "Coefficients: [-0.02956166  0.02035384 -0.05625249 -0.0923255  -0.09051011  0.00237503\n",
      " -0.00725233  0.16591768]\n",
      "Intercept: 0.02623513334681194\n"
     ]
    }
   ],
   "source": [
    "##linear regression with MinMaxSacler## - set y as 'Plugs_Three_Phase'\n",
    "\n",
    "X = df[['Power 1','charging_stations', 'Nearby EVStations', 'Hospitals', 'Parks', 'Restaurants', 'Malls', 'Supermarkets']]\n",
    "y = df['Plugs_Three_Phase']\n",
    "\n",
    "##data transformation\n",
    "scaler = MinMaxScaler()\n",
    "X_scaled = scaler.fit_transform(X)\n",
    "\n",
    "##split data into training and test sets\n",
    "X_train, X_test, y_train, y_test = train_test_split(X_scaled, y, test_size=0.2, random_state=42)\n",
    "\n",
    "##train the model\n",
    "model = LinearRegression()\n",
    "model.fit(X_train, y_train)\n",
    "\n",
    "y_pred = model.predict(X_test)\n",
    "\n",
    "# Scoring the model\n",
    "score = model.score(X_test, y_test)\n",
    "print(f\"R-squared: {score}\")\n",
    "\n",
    "# Coefficients and intercept\n",
    "print(f\"Coefficients: {model.coef_}\")\n",
    "print(f\"Intercept: {model.intercept_}\")"
   ]
  },
  {
   "cell_type": "markdown",
   "id": "b6aa1ebd",
   "metadata": {},
   "source": [
    "## 3:Plugs_CHAdeMO"
   ]
  },
  {
   "cell_type": "code",
   "execution_count": 56,
   "id": "a0ffb1f9",
   "metadata": {},
   "outputs": [
    {
     "name": "stdout",
     "output_type": "stream",
     "text": [
      "Regression Coefficients: [ 0.00915636  0.08669409 -0.01356884  0.00584643  0.00031798 -0.00365362\n",
      " -0.01137535  0.00249357]\n",
      "Mean Squared Error: 0.45557762321055706\n"
     ]
    }
   ],
   "source": [
    "##simple linear regression## - set y as 'Plugs_CHAdeMO'\n",
    "\n",
    "X = df[['Power 1','charging_stations', 'Nearby EVStations', 'Hospitals', 'Parks', 'Restaurants', 'Malls', 'Supermarkets']]\n",
    "y = df['Plugs_CHAdeMO']\n",
    "\n",
    "X_train, X_test, y_train, y_test = train_test_split(X, y, test_size=0.2, random_state=42)\n",
    "\n",
    "model = LinearRegression()\n",
    "\n",
    "model.fit(X_train, y_train)\n",
    "\n",
    "y_pred = model.predict(X_test)\n",
    "\n",
    "# Calculate the Mean Squared Error of the predictions\n",
    "mse = mean_squared_error(y_test, y_pred)\n",
    "\n",
    "print(\"Regression Coefficients:\", model.coef_)\n",
    "print(\"Mean Squared Error:\", mse)"
   ]
  },
  {
   "cell_type": "code",
   "execution_count": 30,
   "id": "c1681696",
   "metadata": {},
   "outputs": [
    {
     "name": "stdout",
     "output_type": "stream",
     "text": [
      "R-squared: 0.07925519868617592\n",
      "Coefficients: [ 3.18641289  1.73388184 -0.27137679  0.09354281  0.00635956 -0.07307237\n",
      " -0.22750702  0.04987144]\n",
      "Intercept: 0.0845265340787062\n"
     ]
    }
   ],
   "source": [
    "##linear regression with MinMaxSacler## - set y as 'Plugs_CHAdeMO'\n",
    "\n",
    "X = df[['Power 1','charging_stations', 'Nearby EVStations', 'Hospitals', 'Parks', 'Restaurants', 'Malls', 'Supermarkets']]\n",
    "y = df['Plugs_CHAdeMO']\n",
    "\n",
    "##data transformation\n",
    "scaler = MinMaxScaler()\n",
    "X_scaled = scaler.fit_transform(X)\n",
    "\n",
    "##split data into training and test sets\n",
    "X_train, X_test, y_train, y_test = train_test_split(X_scaled, y, test_size=0.2, random_state=42)\n",
    "\n",
    "##train the model\n",
    "model = LinearRegression()\n",
    "model.fit(X_train, y_train)\n",
    "\n",
    "y_pred = model.predict(X_test)\n",
    "\n",
    "# Scoring the model\n",
    "score = model.score(X_test, y_test)\n",
    "print(f\"R-squared: {score}\")\n",
    "\n",
    "# Coefficients and intercept\n",
    "print(f\"Coefficients: {model.coef_}\")\n",
    "print(f\"Intercept: {model.intercept_}\")"
   ]
  },
  {
   "cell_type": "markdown",
   "id": "97989220",
   "metadata": {},
   "source": [
    "## 4:Plugs_CCS/SAE"
   ]
  },
  {
   "cell_type": "code",
   "execution_count": 58,
   "id": "bef9d9ab",
   "metadata": {},
   "outputs": [
    {
     "name": "stdout",
     "output_type": "stream",
     "text": [
      "Regression Coefficients: [ 0.00907193  0.09817125 -0.00940153  0.00354714 -0.0075426   0.00441124\n",
      " -0.01068967 -0.00306873]\n",
      "Mean Squared Error: 0.7060146937882084\n"
     ]
    }
   ],
   "source": [
    "##simple linear regression## - set y as 'Plugs_CCS/SAE'\n",
    "\n",
    "X = df[['Power 1','charging_stations', 'Nearby EVStations', 'Hospitals', 'Parks', 'Restaurants', 'Malls', 'Supermarkets']]\n",
    "y = df['Plugs_CCS/SAE']\n",
    "\n",
    "X_train, X_test, y_train, y_test = train_test_split(X, y, test_size=0.2, random_state=42)\n",
    "\n",
    "model = LinearRegression()\n",
    "\n",
    "model.fit(X_train, y_train)\n",
    "\n",
    "y_pred = model.predict(X_test)\n",
    "\n",
    "# Calculate the Mean Squared Error of the predictions\n",
    "mse = mean_squared_error(y_test, y_pred)\n",
    "\n",
    "print(\"Regression Coefficients:\", model.coef_)\n",
    "print(\"Mean Squared Error:\", mse)"
   ]
  },
  {
   "cell_type": "code",
   "execution_count": 33,
   "id": "a24257fa",
   "metadata": {},
   "outputs": [
    {
     "name": "stdout",
     "output_type": "stream",
     "text": [
      "R-squared: 0.18704101403464757\n",
      "Coefficients: [ 3.15703093  1.96342501 -0.18803052  0.0567543  -0.15085197  0.08822483\n",
      " -0.21379344 -0.06137458]\n",
      "Intercept: 0.07206487757079799\n"
     ]
    }
   ],
   "source": [
    "##linear regression with MinMaxSacler## - set y as 'Plugs_CCS/SAE'\n",
    "\n",
    "X = df[['Power 1','charging_stations', 'Nearby EVStations', 'Hospitals', 'Parks', 'Restaurants', 'Malls', 'Supermarkets']]\n",
    "y = df['Plugs_CCS/SAE']\n",
    "\n",
    "##data transformation\n",
    "scaler = MinMaxScaler()\n",
    "X_scaled = scaler.fit_transform(X)\n",
    "\n",
    "##split data into training and test sets\n",
    "X_train, X_test, y_train, y_test = train_test_split(X_scaled, y, test_size=0.2, random_state=42)\n",
    "\n",
    "##train the model\n",
    "model = LinearRegression()\n",
    "model.fit(X_train, y_train)\n",
    "\n",
    "y_pred = model.predict(X_test)\n",
    "\n",
    "# Scoring the model\n",
    "score = model.score(X_test, y_test)\n",
    "print(f\"R-squared: {score}\")\n",
    "\n",
    "# Coefficients and intercept\n",
    "print(f\"Coefficients: {model.coef_}\")\n",
    "print(f\"Intercept: {model.intercept_}\")"
   ]
  },
  {
   "cell_type": "markdown",
   "id": "c40a3a73",
   "metadata": {},
   "source": [
    "## 5.Plugs_Tesla"
   ]
  },
  {
   "cell_type": "code",
   "execution_count": 60,
   "id": "0931b57f",
   "metadata": {},
   "outputs": [
    {
     "name": "stdout",
     "output_type": "stream",
     "text": [
      "Regression Coefficients: [ 0.00502278  0.03262407  0.02030271  0.00979648 -0.00797873  0.00709159\n",
      " -0.00342551 -0.00627147]\n",
      "Mean Squared Error: 1.5787200401180443\n"
     ]
    }
   ],
   "source": [
    "##simple linear regression## - set y as 'Plugs_Tesla'\n",
    "\n",
    "X = df[['Power 1','charging_stations', 'Nearby EVStations', 'Hospitals', 'Parks', 'Restaurants', 'Malls', 'Supermarkets']]\n",
    "y = df['Plugs_Tesla']\n",
    "\n",
    "X_train, X_test, y_train, y_test = train_test_split(X, y, test_size=0.2, random_state=42)\n",
    "\n",
    "model = LinearRegression()\n",
    "\n",
    "model.fit(X_train, y_train)\n",
    "\n",
    "y_pred = model.predict(X_test)\n",
    "\n",
    "# Calculate the Mean Squared Error of the predictions\n",
    "mse = mean_squared_error(y_test, y_pred)\n",
    "\n",
    "print(\"Regression Coefficients:\", model.coef_)\n",
    "print(\"Mean Squared Error:\", mse)"
   ]
  },
  {
   "cell_type": "code",
   "execution_count": 36,
   "id": "401072b1",
   "metadata": {},
   "outputs": [
    {
     "name": "stdout",
     "output_type": "stream",
     "text": [
      "R-squared: 0.09023160014988763\n",
      "Coefficients: [ 1.74792752  0.65248146  0.40605423  0.15674365 -0.15957451  0.14183184\n",
      " -0.06851026 -0.12542947]\n",
      "Intercept: 0.1416160231212688\n"
     ]
    }
   ],
   "source": [
    "##linear regression with MinMaxSacler## - set y as 'Plugs_Tesla'\n",
    "\n",
    "X = df[['Power 1','charging_stations', 'Nearby EVStations', 'Hospitals', 'Parks', 'Restaurants', 'Malls', 'Supermarkets']]\n",
    "y = df['Plugs_Tesla']\n",
    "\n",
    "##data transformation\n",
    "scaler = MinMaxScaler()\n",
    "X_scaled = scaler.fit_transform(X)\n",
    "\n",
    "##split data into training and test sets\n",
    "X_train, X_test, y_train, y_test = train_test_split(X_scaled, y, test_size=0.2, random_state=42)\n",
    "\n",
    "##train the model\n",
    "model = LinearRegression()\n",
    "model.fit(X_train, y_train)\n",
    "\n",
    "y_pred = model.predict(X_test)\n",
    "\n",
    "# Scoring the model\n",
    "score = model.score(X_test, y_test)\n",
    "print(f\"R-squared: {score}\")\n",
    "\n",
    "# Coefficients and intercept\n",
    "print(f\"Coefficients: {model.coef_}\")\n",
    "print(f\"Intercept: {model.intercept_}\")"
   ]
  },
  {
   "cell_type": "markdown",
   "id": "540bab34",
   "metadata": {},
   "source": [
    "## 6.Plugs_J-1772"
   ]
  },
  {
   "cell_type": "code",
   "execution_count": 62,
   "id": "f952639d",
   "metadata": {},
   "outputs": [
    {
     "name": "stdout",
     "output_type": "stream",
     "text": [
      "Regression Coefficients: [-0.00034302  0.00864464 -0.01343732 -0.00124446  0.00797271  0.00212562\n",
      "  0.02230555 -0.00779283]\n",
      "Mean Squared Error: 0.09033945048012315\n"
     ]
    }
   ],
   "source": [
    "##simple linear regression## - set y as 'Plugs_J-1772'\n",
    "\n",
    "X = df[['Power 1','charging_stations', 'Nearby EVStations', 'Hospitals', 'Parks', 'Restaurants', 'Malls', 'Supermarkets']]\n",
    "y = df['Plugs_J-1772']\n",
    "\n",
    "X_train, X_test, y_train, y_test = train_test_split(X, y, test_size=0.2, random_state=42)\n",
    "\n",
    "model = LinearRegression()\n",
    "\n",
    "model.fit(X_train, y_train)\n",
    "\n",
    "y_pred = model.predict(X_test)\n",
    "\n",
    "# Calculate the Mean Squared Error of the predictions\n",
    "mse = mean_squared_error(y_test, y_pred)\n",
    "\n",
    "print(\"Regression Coefficients:\", model.coef_)\n",
    "print(\"Mean Squared Error:\", mse)"
   ]
  },
  {
   "cell_type": "code",
   "execution_count": 40,
   "id": "c7d5741a",
   "metadata": {},
   "outputs": [
    {
     "name": "stdout",
     "output_type": "stream",
     "text": [
      "R-squared: -0.06555887217729195\n",
      "Coefficients: [-0.11937118  0.17289271 -0.26874632 -0.01991143  0.15945427  0.04251238\n",
      "  0.44611098 -0.15585666]\n",
      "Intercept: 0.0406339305303009\n"
     ]
    }
   ],
   "source": [
    "##linear regression with MinMaxSacler## - set y as 'Plugs_J-1772'\n",
    "\n",
    "X = df[['Power 1','charging_stations', 'Nearby EVStations', 'Hospitals', 'Parks', 'Restaurants', 'Malls', 'Supermarkets']]\n",
    "y = df['Plugs_J-1772']\n",
    "\n",
    "##data transformation\n",
    "scaler = MinMaxScaler()\n",
    "X_scaled = scaler.fit_transform(X)\n",
    "\n",
    "##split data into training and test sets\n",
    "X_train, X_test, y_train, y_test = train_test_split(X_scaled, y, test_size=0.2, random_state=42)\n",
    "\n",
    "##train the model\n",
    "model = LinearRegression()\n",
    "model.fit(X_train, y_train)\n",
    "\n",
    "y_pred = model.predict(X_test)\n",
    "\n",
    "# Scoring the model\n",
    "score = model.score(X_test, y_test)\n",
    "print(f\"R-squared: {score}\")\n",
    "\n",
    "# Coefficients and intercept\n",
    "print(f\"Coefficients: {model.coef_}\")\n",
    "print(f\"Intercept: {model.intercept_}\")"
   ]
  },
  {
   "cell_type": "markdown",
   "id": "22a62526",
   "metadata": {},
   "source": [
    "## 7.Plugs_Caravan_Mains_Socket"
   ]
  },
  {
   "cell_type": "code",
   "execution_count": 67,
   "id": "da9132e6",
   "metadata": {},
   "outputs": [
    {
     "name": "stdout",
     "output_type": "stream",
     "text": [
      "Regression Coefficients: [-7.32290333e-06 -3.64701059e-04 -6.98287776e-04 -4.02423949e-04\n",
      "  4.11628380e-04  8.23042120e-05  6.81675846e-04 -5.59347447e-04]\n",
      "Mean Squared Error: 2.661426631853063e-05\n"
     ]
    }
   ],
   "source": [
    "##simple linear regression## - set y as 'Plugs_Caravan_Mains_Socket'\n",
    "\n",
    "X = df[['Power 1','charging_stations', 'Nearby EVStations', 'Hospitals', 'Parks', 'Restaurants', 'Malls', 'Supermarkets']]\n",
    "y = df['Plugs_Caravan_Mains_Socket']\n",
    "\n",
    "X_train, X_test, y_train, y_test = train_test_split(X, y, test_size=0.2, random_state=42)\n",
    "\n",
    "model = LinearRegression()\n",
    "\n",
    "model.fit(X_train, y_train)\n",
    "\n",
    "y_pred = model.predict(X_test)\n",
    "\n",
    "# Calculate the Mean Squared Error of the predictions\n",
    "mse = mean_squared_error(y_test, y_pred)\n",
    "\n",
    "print(\"Regression Coefficients:\", model.coef_)\n",
    "print(\"Mean Squared Error:\", mse)"
   ]
  },
  {
   "cell_type": "code",
   "execution_count": 49,
   "id": "ea44f7b4",
   "metadata": {},
   "outputs": [
    {
     "name": "stdout",
     "output_type": "stream",
     "text": [
      "R-squared: 0.0\n",
      "Coefficients: [-0.00254837 -0.00729402 -0.01396576 -0.00643878  0.00823257  0.00164608\n",
      "  0.01363352 -0.01118695]\n",
      "Intercept: 0.004514637420014581\n"
     ]
    }
   ],
   "source": [
    "##linear regression with MinMaxSacler## - set y as 'Plugs_Caravan_Mains_Socket'\n",
    "\n",
    "X = df[['Power 1','charging_stations', 'Nearby EVStations', 'Hospitals', 'Parks', 'Restaurants', 'Malls', 'Supermarkets']]\n",
    "y = df['Plugs_Caravan_Mains_Socket']\n",
    "\n",
    "##data transformation\n",
    "scaler = MinMaxScaler()\n",
    "X_scaled = scaler.fit_transform(X)\n",
    "\n",
    "##split data into training and test sets\n",
    "X_train, X_test, y_train, y_test = train_test_split(X_scaled, y, test_size=0.2, random_state=42)\n",
    "\n",
    "##train the model\n",
    "model = LinearRegression()\n",
    "model.fit(X_train, y_train)\n",
    "\n",
    "y_pred = model.predict(X_test)\n",
    "\n",
    "# Scoring the model\n",
    "score = model.score(X_test, y_test)\n",
    "print(f\"R-squared: {score}\")\n",
    "\n",
    "# Coefficients and intercept\n",
    "print(f\"Coefficients: {model.coef_}\")\n",
    "print(f\"Intercept: {model.intercept_}\")"
   ]
  },
  {
   "cell_type": "markdown",
   "id": "c46b4d4f",
   "metadata": {},
   "source": [
    "## 8.Plugs_wall_AU/NZ"
   ]
  },
  {
   "cell_type": "code",
   "execution_count": 69,
   "id": "f2a0a329",
   "metadata": {},
   "outputs": [
    {
     "name": "stdout",
     "output_type": "stream",
     "text": [
      "Regression Coefficients: [-0.00372371  0.24109215  0.04272913 -0.05910785  0.00672448 -0.02150498\n",
      " -0.03474958  0.04208377]\n",
      "Mean Squared Error: 4.17203276314352\n"
     ]
    }
   ],
   "source": [
    "##simple linear regression## - set y as 'Plugs_wall_AU/NZ'\n",
    "\n",
    "X = df[['Power 1','charging_stations', 'Nearby EVStations', 'Hospitals', 'Parks', 'Restaurants', 'Malls', 'Supermarkets']]\n",
    "y = df['Plugs_wall_AU/NZ']\n",
    "\n",
    "X_train, X_test, y_train, y_test = train_test_split(X, y, test_size=0.2, random_state=42)\n",
    "\n",
    "model = LinearRegression()\n",
    "\n",
    "model.fit(X_train, y_train)\n",
    "\n",
    "y_pred = model.predict(X_test)\n",
    "\n",
    "# Calculate the Mean Squared Error of the predictions\n",
    "mse = mean_squared_error(y_test, y_pred)\n",
    "\n",
    "print(\"Regression Coefficients:\", model.coef_)\n",
    "print(\"Mean Squared Error:\", mse)"
   ]
  },
  {
   "cell_type": "code",
   "execution_count": 50,
   "id": "2ff45392",
   "metadata": {},
   "outputs": [
    {
     "name": "stdout",
     "output_type": "stream",
     "text": [
      "R-squared: 0.37774456374202536\n",
      "Coefficients: [-1.29585019  4.82184303  0.85458258 -0.94572566  0.1344896  -0.43009967\n",
      " -0.69499163  0.8416754 ]\n",
      "Intercept: -0.027022127158421116\n"
     ]
    }
   ],
   "source": [
    "##linear regression with MinMaxSacler## - set y as 'Plugs_wall_AU/NZ'\n",
    "\n",
    "X = df[['Power 1','charging_stations', 'Nearby EVStations', 'Hospitals', 'Parks', 'Restaurants', 'Malls', 'Supermarkets']]\n",
    "y = df['Plugs_wall_AU/NZ']\n",
    "\n",
    "##data transformation\n",
    "scaler = MinMaxScaler()\n",
    "X_scaled = scaler.fit_transform(X)\n",
    "\n",
    "##split data into training and test sets\n",
    "X_train, X_test, y_train, y_test = train_test_split(X_scaled, y, test_size=0.2, random_state=42)\n",
    "\n",
    "##train the model\n",
    "model = LinearRegression()\n",
    "model.fit(X_train, y_train)\n",
    "\n",
    "y_pred = model.predict(X_test)\n",
    "\n",
    "# Scoring the model\n",
    "score = model.score(X_test, y_test)\n",
    "print(f\"R-squared: {score}\")\n",
    "\n",
    "# Coefficients and intercept\n",
    "print(f\"Coefficients: {model.coef_}\")\n",
    "print(f\"Intercept: {model.intercept_}\")"
   ]
  },
  {
   "cell_type": "markdown",
   "id": "6e843a14",
   "metadata": {},
   "source": [
    "## Use different regression: Polynomial regression"
   ]
  },
  {
   "cell_type": "markdown",
   "id": "4a1b0d13",
   "metadata": {},
   "source": [
    "## 1:Plugs_Type2"
   ]
  },
  {
   "cell_type": "code",
   "execution_count": 83,
   "id": "67a39dcd",
   "metadata": {
    "scrolled": true
   },
   "outputs": [
    {
     "name": "stdout",
     "output_type": "stream",
     "text": [
      "R-squared: 0.6014536389272575\n",
      "Regression Coefficients: [ 5.43696881e-14 -3.26602870e-02  8.83844453e-01  4.47207793e-02\n",
      " -9.50349848e-02 -3.06256672e-02  7.28398000e-02 -2.47278768e-01\n",
      "  9.20024228e-02  2.36885275e-04 -9.71115842e-03 -1.39903985e-03\n",
      " -5.56734533e-04  9.46936324e-04  4.48558920e-04 -1.91357284e-03\n",
      "  1.41945263e-03  5.39831027e-03 -2.08045689e-02  7.04972300e-02\n",
      "  7.36497398e-03 -5.93530829e-03  2.94551015e-02 -2.40727405e-02\n",
      "  3.81179560e-03 -6.39338854e-03 -1.19777056e-02  1.45858173e-02\n",
      "  1.08239665e-03 -8.19428889e-03  3.36486582e-03  2.80458932e-03\n",
      " -1.89259772e-03  4.01923255e-03 -3.43086214e-03 -1.60116017e-03\n",
      "  1.69771896e-03 -3.28076328e-03  3.39514157e-03 -3.38963041e-03\n",
      "  1.02285559e-02 -7.93996409e-03  3.16846288e-03 -5.29505041e-04\n",
      "  3.80846726e-03]\n",
      "Mean Squared Error: 1.7676121812797398\n"
     ]
    }
   ],
   "source": [
    "import numpy as np\n",
    "from sklearn.preprocessing import PolynomialFeatures\n",
    "\n",
    "##polynomial regression## - set y as 'Plugs_Type2'\n",
    "\n",
    "X = df[['Power 1','charging_stations', 'Nearby EVStations', 'Hospitals', 'Parks', 'Restaurants', 'Malls', 'Supermarkets']]\n",
    "y = df['Plugs_Type2']\n",
    "\n",
    "X_train, X_test, y_train, y_test = train_test_split(X, y, test_size=0.2, random_state=42)\n",
    "\n",
    "##create polynomial features degree=2\n",
    "poly = PolynomialFeatures(degree=2)\n",
    "X_train_poly = poly.fit_transform(X_train)\n",
    "X_test_poly = poly.transform(X_test)\n",
    "\n",
    "model = LinearRegression()\n",
    "\n",
    "model.fit(X_train_poly, y_train)\n",
    "\n",
    "y_pred = model.predict(X_test_poly)\n",
    "\n",
    "##calculate the Mean Squared Error of the predictions\n",
    "mse = mean_squared_error(y_test, y_pred)\n",
    "r2_poly = model.score(X_test_poly, y_test)\n",
    "print(f'R-squared: {r2_poly}')\n",
    "print(\"Regression Coefficients:\", model.coef_)\n",
    "print(\"Mean Squared Error:\", mse)\n"
   ]
  },
  {
   "cell_type": "markdown",
   "id": "613b9c62",
   "metadata": {},
   "source": [
    "## 2:Plugs_Three_Phase"
   ]
  },
  {
   "cell_type": "code",
   "execution_count": 14,
   "id": "9e59721f",
   "metadata": {},
   "outputs": [
    {
     "name": "stdout",
     "output_type": "stream",
     "text": [
      "Regression Coefficients: [ 1.24416164e-14 -1.74280779e-03  3.52021839e-02  5.80582655e-02\n",
      " -8.78840427e-02 -1.42369755e-02 -2.65017880e-02  4.51679677e-02\n",
      "  6.14253271e-02  4.16452737e-06 -1.78666554e-04  1.46044305e-04\n",
      "  1.17104767e-04  4.75619119e-05  1.48138134e-04 -1.34972145e-04\n",
      " -2.14106968e-04 -1.75628396e-03 -4.71772426e-03 -1.44519338e-03\n",
      " -1.74733711e-04 -2.84235791e-03  4.96322283e-04  7.31861008e-03\n",
      " -4.59900077e-04  8.30259165e-04  1.67266805e-03 -3.90457132e-03\n",
      " -4.99709985e-04  2.22957786e-04  2.24513841e-03  4.81409230e-03\n",
      "  7.16603742e-03  2.97311883e-03 -1.29363902e-02  4.78146450e-04\n",
      "  9.43679860e-04  4.25796517e-04 -3.68253359e-03  1.52478987e-03\n",
      " -3.26011256e-03 -3.85664772e-03 -2.15511834e-03  3.87102181e-03\n",
      "  2.63422631e-03]\n",
      "Mean Squared Error: 0.027763281522459826\n"
     ]
    }
   ],
   "source": [
    "##polynomial regression## - set y as 'Plugs_Three_Phase'\n",
    "\n",
    "X = df[['Power 1','charging_stations', 'Nearby EVStations', 'Hospitals', 'Parks', 'Restaurants', 'Malls', 'Supermarkets']]\n",
    "y = df['Plugs_Three_Phase']\n",
    "\n",
    "X_train, X_test, y_train, y_test = train_test_split(X, y, test_size=0.2, random_state=42)\n",
    "\n",
    "##create polynomial features degree=2\n",
    "poly = PolynomialFeatures(degree=2)\n",
    "X_train_poly = poly.fit_transform(X_train)\n",
    "X_test_poly = poly.transform(X_test)\n",
    "\n",
    "model = LinearRegression()\n",
    "\n",
    "model.fit(X_train_poly, y_train)\n",
    "\n",
    "y_pred = model.predict(X_test_poly)\n",
    "\n",
    "##calculate the Mean Squared Error of the predictions\n",
    "mse = mean_squared_error(y_test, y_pred)\n",
    "\n",
    "print(\"Regression Coefficients:\", model.coef_)\n",
    "print(\"Mean Squared Error:\", mse)"
   ]
  },
  {
   "cell_type": "markdown",
   "id": "d364f2f8",
   "metadata": {},
   "source": [
    "## 3:Plugs_CHAdeMO"
   ]
  },
  {
   "cell_type": "code",
   "execution_count": 15,
   "id": "af1da467",
   "metadata": {},
   "outputs": [
    {
     "name": "stdout",
     "output_type": "stream",
     "text": [
      "Regression Coefficients: [-5.73577203e-15  3.33858597e-02  3.82691077e-02 -4.80708667e-03\n",
      "  1.75037742e-01  2.79271627e-02  4.52781914e-02 -1.77566001e-01\n",
      " -7.03377557e-03 -8.51548692e-05  3.44620954e-03 -1.03610830e-03\n",
      " -1.59752749e-03  3.10052117e-04 -1.36603112e-03  1.93430293e-03\n",
      " -9.53587017e-04 -9.07175486e-03  1.47426835e-03 -2.49796566e-03\n",
      " -8.78663221e-03  1.55500041e-02 -3.75499797e-03 -6.37545323e-03\n",
      " -1.41904040e-03  5.31435983e-03 -2.06148786e-03  4.57072266e-04\n",
      " -2.94587475e-03  4.14399297e-03 -2.30368840e-03 -7.54519423e-03\n",
      " -9.45698786e-03 -5.95832424e-03  1.18265565e-02 -1.63935406e-03\n",
      "  8.23028570e-04  5.48099016e-04  2.13306326e-03 -1.67551571e-03\n",
      "  5.58624816e-03 -1.33018968e-03  6.81350626e-03 -5.41114144e-03\n",
      "  2.49964533e-03]\n",
      "Mean Squared Error: 0.6247101402096763\n"
     ]
    }
   ],
   "source": [
    "##polynomial regression## - set y as 'Plugs_CHAdeMO'\n",
    "\n",
    "X = df[['Power 1','charging_stations', 'Nearby EVStations', 'Hospitals', 'Parks', 'Restaurants', 'Malls', 'Supermarkets']]\n",
    "y = df['Plugs_CHAdeMO']\n",
    "\n",
    "X_train, X_test, y_train, y_test = train_test_split(X, y, test_size=0.2, random_state=42)\n",
    "\n",
    "##create polynomial features degree=2\n",
    "poly = PolynomialFeatures(degree=2)\n",
    "X_train_poly = poly.fit_transform(X_train)\n",
    "X_test_poly = poly.transform(X_test)\n",
    "\n",
    "model = LinearRegression()\n",
    "\n",
    "model.fit(X_train_poly, y_train)\n",
    "\n",
    "y_pred = model.predict(X_test_poly)\n",
    "\n",
    "##calculate the Mean Squared Error of the predictions\n",
    "mse = mean_squared_error(y_test, y_pred)\n",
    "\n",
    "print(\"Regression Coefficients:\", model.coef_)\n",
    "print(\"Mean Squared Error:\", mse)"
   ]
  },
  {
   "cell_type": "markdown",
   "id": "d9980b6b",
   "metadata": {},
   "source": [
    "## 4:Plugs_CCS/SAE"
   ]
  },
  {
   "cell_type": "code",
   "execution_count": 16,
   "id": "a9188863",
   "metadata": {},
   "outputs": [
    {
     "name": "stdout",
     "output_type": "stream",
     "text": [
      "Regression Coefficients: [-6.15263743e-15  3.59849902e-02  1.30579704e-02  9.63574212e-03\n",
      "  1.84641141e-01  3.28482428e-02  3.23857145e-02 -2.09136414e-01\n",
      " -2.48530485e-02 -6.89572662e-05  2.23267334e-03 -1.17745957e-03\n",
      " -1.33894623e-03  8.01417557e-04 -1.52656576e-03  1.56117350e-03\n",
      " -8.86224380e-04 -4.83360998e-03  4.28461940e-03 -7.23863743e-03\n",
      " -2.44359180e-02  2.74950817e-02 -2.79148568e-03 -7.24654315e-03\n",
      " -2.63096414e-03  2.49645295e-03 -1.06624659e-03 -1.06304647e-03\n",
      " -1.68597318e-03  4.83135031e-03 -1.36630623e-03 -2.54309229e-03\n",
      " -1.36648198e-02 -6.76525410e-03  1.36420955e-02  1.36268126e-04\n",
      " -7.21398763e-04 -9.39120006e-04  2.26192529e-03 -1.16354856e-03\n",
      "  8.76926009e-03 -9.29081526e-04  6.46507196e-03 -5.72704250e-03\n",
      "  2.51897132e-03]\n",
      "Mean Squared Error: 0.7990390095159771\n"
     ]
    }
   ],
   "source": [
    "##polynomial regression## - set y as 'Plugs_CCS/SAE'\n",
    "\n",
    "X = df[['Power 1','charging_stations', 'Nearby EVStations', 'Hospitals', 'Parks', 'Restaurants', 'Malls', 'Supermarkets']]\n",
    "y = df['Plugs_CCS/SAE']\n",
    "\n",
    "X_train, X_test, y_train, y_test = train_test_split(X, y, test_size=0.2, random_state=42)\n",
    "\n",
    "##create polynomial features degree=2\n",
    "poly = PolynomialFeatures(degree=2)\n",
    "X_train_poly = poly.fit_transform(X_train)\n",
    "X_test_poly = poly.transform(X_test)\n",
    "\n",
    "model = LinearRegression()\n",
    "\n",
    "model.fit(X_train_poly, y_train)\n",
    "\n",
    "y_pred = model.predict(X_test_poly)\n",
    "\n",
    "##calculate the Mean Squared Error of the predictions\n",
    "mse = mean_squared_error(y_test, y_pred)\n",
    "\n",
    "print(\"Regression Coefficients:\", model.coef_)\n",
    "print(\"Mean Squared Error:\", mse)"
   ]
  },
  {
   "cell_type": "markdown",
   "id": "99abda85",
   "metadata": {},
   "source": [
    "## 5.Plugs_Tesla"
   ]
  },
  {
   "cell_type": "code",
   "execution_count": 17,
   "id": "08f54030",
   "metadata": {},
   "outputs": [
    {
     "name": "stdout",
     "output_type": "stream",
     "text": [
      "Regression Coefficients: [ 1.80748410e-14 -3.48162485e-02  1.68647004e-01 -3.76884780e-02\n",
      " -2.12848733e-01 -4.55931692e-02 -1.07834516e-01  1.14818900e-01\n",
      " -2.07979229e-02 -8.79363481e-05  3.40732878e-03  3.40742622e-03\n",
      "  3.94293227e-03 -2.73215270e-03  3.15959356e-03 -5.25406995e-03\n",
      "  1.10681997e-03 -1.40116053e-02 -7.40905230e-03  5.67635072e-03\n",
      "  1.75985432e-02 -1.69929124e-02  6.07687152e-03  3.42609111e-03\n",
      " -6.77339043e-03  3.62640641e-03  1.42497017e-02 -1.22869573e-03\n",
      "  8.34219518e-03 -9.22423900e-03  6.15442718e-03 -6.35039757e-03\n",
      "  2.92966499e-03 -4.41687482e-03  6.32862086e-03  2.54542560e-03\n",
      " -1.67347061e-03 -3.84483029e-03  1.33459756e-03  1.92146323e-03\n",
      "  8.90082511e-03  4.79829386e-03 -7.60581387e-03 -1.53038972e-03\n",
      " -5.14750631e-03]\n",
      "Mean Squared Error: 2.7748608086330186\n"
     ]
    }
   ],
   "source": [
    "##polynomial regression## - set y as 'Plugs_Tesla'\n",
    "\n",
    "X = df[['Power 1','charging_stations', 'Nearby EVStations', 'Hospitals', 'Parks', 'Restaurants', 'Malls', 'Supermarkets']]\n",
    "y = df['Plugs_Tesla']\n",
    "\n",
    "X_train, X_test, y_train, y_test = train_test_split(X, y, test_size=0.2, random_state=42)\n",
    "\n",
    "##create polynomial features degree=2\n",
    "poly = PolynomialFeatures(degree=2)\n",
    "X_train_poly = poly.fit_transform(X_train)\n",
    "X_test_poly = poly.transform(X_test)\n",
    "\n",
    "model = LinearRegression()\n",
    "\n",
    "model.fit(X_train_poly, y_train)\n",
    "\n",
    "y_pred = model.predict(X_test_poly)\n",
    "\n",
    "##calculate the Mean Squared Error of the predictions\n",
    "mse = mean_squared_error(y_test, y_pred)\n",
    "\n",
    "print(\"Regression Coefficients:\", model.coef_)\n",
    "print(\"Mean Squared Error:\", mse)"
   ]
  },
  {
   "cell_type": "markdown",
   "id": "bc2384ee",
   "metadata": {},
   "source": [
    "## 6:Plugs_J-1772"
   ]
  },
  {
   "cell_type": "code",
   "execution_count": 18,
   "id": "4f44df57",
   "metadata": {},
   "outputs": [
    {
     "name": "stdout",
     "output_type": "stream",
     "text": [
      "Regression Coefficients: [-1.07780898e-14 -6.66573151e-03 -1.47198389e-02 -3.18754600e-02\n",
      "  4.73558062e-02 -2.10249257e-02  2.51096491e-02  7.16085936e-02\n",
      " -2.00210858e-02 -7.81262071e-06  1.08590869e-03  7.83868172e-04\n",
      "  3.68290807e-04 -3.66805561e-04  1.31148451e-04 -1.49757868e-04\n",
      " -1.04383526e-04 -5.91098647e-03 -4.43685678e-03 -1.77939142e-02\n",
      "  1.44293544e-02 -2.05813750e-03  3.49505437e-03 -2.53007582e-03\n",
      "  4.09175391e-04  1.30632480e-03 -3.29988106e-03  1.24381524e-03\n",
      " -3.45020749e-04  2.99758963e-03 -2.30236939e-03 -4.11557159e-04\n",
      " -1.54302795e-03  1.41503076e-03  1.53866387e-03  9.05140657e-04\n",
      " -4.60792514e-04 -2.96493493e-03  4.75877401e-04 -1.30909787e-03\n",
      " -2.16762932e-03  2.87044242e-03 -1.55189645e-05  1.35071282e-03\n",
      " -2.54340038e-03]\n",
      "Mean Squared Error: 0.10131457138553174\n"
     ]
    }
   ],
   "source": [
    "##polynomial regression## - set y as 'Plugs_J-1772'\n",
    "\n",
    "X = df[['Power 1','charging_stations', 'Nearby EVStations', 'Hospitals', 'Parks', 'Restaurants', 'Malls', 'Supermarkets']]\n",
    "y = df['Plugs_J-1772']\n",
    "\n",
    "X_train, X_test, y_train, y_test = train_test_split(X, y, test_size=0.2, random_state=42)\n",
    "\n",
    "##create polynomial features degree=2\n",
    "poly = PolynomialFeatures(degree=2)\n",
    "X_train_poly = poly.fit_transform(X_train)\n",
    "X_test_poly = poly.transform(X_test)\n",
    "\n",
    "model = LinearRegression()\n",
    "\n",
    "model.fit(X_train_poly, y_train)\n",
    "\n",
    "y_pred = model.predict(X_test_poly)\n",
    "\n",
    "##calculate the Mean Squared Error of the predictions\n",
    "mse = mean_squared_error(y_test, y_pred)\n",
    "\n",
    "print(\"Regression Coefficients:\", model.coef_)\n",
    "print(\"Mean Squared Error:\", mse)"
   ]
  },
  {
   "cell_type": "markdown",
   "id": "8ae6cf70",
   "metadata": {},
   "source": [
    "## 7:Plugs_Caravan_Mains_Socket"
   ]
  },
  {
   "cell_type": "code",
   "execution_count": 19,
   "id": "44779658",
   "metadata": {},
   "outputs": [
    {
     "name": "stdout",
     "output_type": "stream",
     "text": [
      "Regression Coefficients: [-2.17958232e-15  2.28455862e-04  5.68019177e-04 -1.55202391e-02\n",
      " -7.32243793e-03  5.92027857e-05  7.10242605e-03  3.18145754e-02\n",
      " -8.96683122e-03  8.32898554e-08 -1.67455103e-05 -8.41400165e-06\n",
      " -2.41817934e-05 -7.29843823e-07 -2.66240942e-06  1.18228735e-05\n",
      " -7.48759420e-06 -7.58108113e-05  3.00354316e-05  8.44334904e-05\n",
      "  1.07533272e-04 -6.71672358e-05 -1.36104186e-04  8.42251891e-05\n",
      "  1.34767678e-04  1.61196226e-05  9.65751989e-06  6.26222519e-04\n",
      " -1.43669778e-04  1.10861021e-04  2.09364651e-05 -1.61518767e-04\n",
      "  2.75187293e-04 -7.03955620e-05  2.97605834e-04 -1.16913029e-04\n",
      "  1.72532220e-04  1.65637060e-04 -1.35083020e-04 -3.88313384e-04\n",
      " -1.63900922e-03  5.52560311e-04  2.77227973e-05 -1.42396599e-05\n",
      " -7.21105604e-05]\n",
      "Mean Squared Error: 0.000162090101993577\n"
     ]
    }
   ],
   "source": [
    "##polynomial regression## - set y as 'Plugs_Caravan_Mains_Socket'\n",
    "\n",
    "X = df[['Power 1','charging_stations', 'Nearby EVStations', 'Hospitals', 'Parks', 'Restaurants', 'Malls', 'Supermarkets']]\n",
    "y = df['Plugs_Caravan_Mains_Socket']\n",
    "\n",
    "X_train, X_test, y_train, y_test = train_test_split(X, y, test_size=0.2, random_state=42)\n",
    "\n",
    "##create polynomial features degree=2\n",
    "poly = PolynomialFeatures(degree=2)\n",
    "X_train_poly = poly.fit_transform(X_train)\n",
    "X_test_poly = poly.transform(X_test)\n",
    "\n",
    "model = LinearRegression()\n",
    "\n",
    "model.fit(X_train_poly, y_train)\n",
    "\n",
    "y_pred = model.predict(X_test_poly)\n",
    "\n",
    "##calculate the Mean Squared Error of the predictions\n",
    "mse = mean_squared_error(y_test, y_pred)\n",
    "\n",
    "print(\"Regression Coefficients:\", model.coef_)\n",
    "print(\"Mean Squared Error:\", mse)"
   ]
  },
  {
   "cell_type": "markdown",
   "id": "dae8b058",
   "metadata": {},
   "source": [
    "## 8:Plugs_wall_AU/NZ"
   ]
  },
  {
   "cell_type": "code",
   "execution_count": 20,
   "id": "dff20166",
   "metadata": {},
   "outputs": [
    {
     "name": "stdout",
     "output_type": "stream",
     "text": [
      "Regression Coefficients: [-2.56459408e-14  1.32911936e-02 -9.48162655e-02 -1.05063115e-02\n",
      "  1.47345513e-01  4.95822186e-02 -1.35365852e-02  1.94518969e-01\n",
      " -7.04157398e-02 -6.83765634e-06 -3.94737238e-04 -4.51605239e-04\n",
      " -1.20705270e-03  9.56690647e-04 -8.77019977e-04  3.73388698e-03\n",
      " -7.51060446e-04  2.91528464e-02  2.58046433e-02 -4.70422700e-02\n",
      " -4.88424549e-03 -1.77713237e-02 -3.36821122e-02  3.49716662e-02\n",
      "  6.05005913e-03 -4.49357386e-03  2.33664635e-03 -1.07581717e-02\n",
      " -5.16025490e-03  5.42934901e-03 -5.81940662e-03  3.33888945e-03\n",
      "  1.27882544e-02  9.50428954e-03 -1.84461731e-02 -5.49731856e-04\n",
      " -1.04988037e-03  6.40020132e-03 -3.73489512e-03  3.11204033e-03\n",
      " -1.73502695e-02  4.94319173e-03 -7.30711406e-03  1.31141935e-02\n",
      " -4.63896907e-03]\n",
      "Mean Squared Error: 0.9531539539347821\n"
     ]
    }
   ],
   "source": [
    "##polynomial regression## - set y as 'Plugs_wall_AU/NZ'\n",
    "\n",
    "X = df[['Power 1','charging_stations', 'Nearby EVStations', 'Hospitals', 'Parks', 'Restaurants', 'Malls', 'Supermarkets']]\n",
    "y = df['Plugs_wall_AU/NZ']\n",
    "\n",
    "X_train, X_test, y_train, y_test = train_test_split(X, y, test_size=0.2, random_state=42)\n",
    "\n",
    "##create polynomial features degree=2\n",
    "poly = PolynomialFeatures(degree=2)\n",
    "X_train_poly = poly.fit_transform(X_train)\n",
    "X_test_poly = poly.transform(X_test)\n",
    "\n",
    "model = LinearRegression()\n",
    "\n",
    "model.fit(X_train_poly, y_train)\n",
    "\n",
    "y_pred = model.predict(X_test_poly)\n",
    "\n",
    "##calculate the Mean Squared Error of the predictions\n",
    "mse = mean_squared_error(y_test, y_pred)\n",
    "\n",
    "print(\"Regression Coefficients:\", model.coef_)\n",
    "print(\"Mean Squared Error:\", mse)"
   ]
  },
  {
   "cell_type": "markdown",
   "id": "53fa2d3c",
   "metadata": {},
   "source": [
    "## Use different model : Random forest"
   ]
  },
  {
   "cell_type": "markdown",
   "id": "0d80947c",
   "metadata": {},
   "source": [
    "## 1:Plugs_Type2"
   ]
  },
  {
   "cell_type": "code",
   "execution_count": 85,
   "id": "94766b50",
   "metadata": {},
   "outputs": [
    {
     "name": "stdout",
     "output_type": "stream",
     "text": [
      "R-squared: 0.6469500030347084\n",
      "Mean Squared Error: 1.5658290632911394\n",
      "Feature Importances: [0.28214319 0.55460491 0.02371025 0.04749269 0.03659901 0.01652751\n",
      " 0.02281731 0.01610513]\n"
     ]
    }
   ],
   "source": [
    "from sklearn.ensemble import RandomForestRegressor\n",
    "\n",
    "##random forest## - set y as 'Plugs_Type2'\n",
    "\n",
    "X = df[['Power 1','charging_stations', 'Nearby EVStations', 'Hospitals', 'Parks', 'Restaurants', 'Malls', 'Supermarkets']]\n",
    "y = df['Plugs_Type2']\n",
    "\n",
    "X_train, X_test, y_train, y_test = train_test_split(X, y, test_size=0.2, random_state=42)\n",
    "\n",
    "# Create a Random Forest Regressor model and fit it to the training data\n",
    "rf_model = RandomForestRegressor(n_estimators=100, random_state=42)\n",
    "rf_model.fit(X_train, y_train)\n",
    "\n",
    "# Making predictions\n",
    "y_pred = rf_model.predict(X_test)\n",
    "\n",
    "# Calculating the performance metrics\n",
    "mse = mean_squared_error(y_test, y_pred)\n",
    "r2 = r2_score(y_test, y_pred)\n",
    "\n",
    "# Output the metrics\n",
    "print(f'R-squared: {r2}')\n",
    "print(f'Mean Squared Error: {mse}')\n",
    "\n",
    "# If you want to see feature importances\n",
    "feature_importances = rf_model.feature_importances_\n",
    "print(f'Feature Importances: {feature_importances}')\n"
   ]
  },
  {
   "cell_type": "markdown",
   "id": "c2aa8f0a",
   "metadata": {},
   "source": [
    "## 2:Plugs_Three_Phase"
   ]
  },
  {
   "cell_type": "code",
   "execution_count": 86,
   "id": "cff00238",
   "metadata": {},
   "outputs": [
    {
     "name": "stdout",
     "output_type": "stream",
     "text": [
      "R-squared: -5.112371794871798\n",
      "Mean Squared Error: 0.0030556962025316456\n",
      "Feature Importances: [0.37289231 0.11773888 0.07595182 0.03609721 0.1473879  0.05235517\n",
      " 0.07296253 0.12461418]\n"
     ]
    }
   ],
   "source": [
    "##random forest## - set y as 'Plugs_Three_Phase'\n",
    "\n",
    "X = df[['Power 1','charging_stations', 'Nearby EVStations', 'Hospitals', 'Parks', 'Restaurants', 'Malls', 'Supermarkets']]\n",
    "y = df['Plugs_Three_Phase']\n",
    "\n",
    "X_train, X_test, y_train, y_test = train_test_split(X, y, test_size=0.2, random_state=42)\n",
    "\n",
    "# Create a Random Forest Regressor model and fit it to the training data\n",
    "rf_model = RandomForestRegressor(n_estimators=100, random_state=42)\n",
    "rf_model.fit(X_train, y_train)\n",
    "\n",
    "# Making predictions\n",
    "y_pred = rf_model.predict(X_test)\n",
    "\n",
    "# Calculating the performance metrics\n",
    "mse = mean_squared_error(y_test, y_pred)\n",
    "r2 = r2_score(y_test, y_pred)\n",
    "\n",
    "# Output the metrics\n",
    "print(f'R-squared: {r2}')\n",
    "print(f'Mean Squared Error: {mse}')\n",
    "\n",
    "# If you want to see feature importances\n",
    "feature_importances = rf_model.feature_importances_\n",
    "print(f'Feature Importances: {feature_importances}')\n"
   ]
  },
  {
   "cell_type": "markdown",
   "id": "3ecfd2c0",
   "metadata": {},
   "source": [
    "## 3. Plugs_CHAdeMO"
   ]
  },
  {
   "cell_type": "code",
   "execution_count": 87,
   "id": "788e70ef",
   "metadata": {},
   "outputs": [
    {
     "name": "stdout",
     "output_type": "stream",
     "text": [
      "R-squared: 0.7736998950777202\n",
      "Mean Squared Error: 0.11197159493670886\n",
      "Feature Importances: [0.55003946 0.3684972  0.02345293 0.01205618 0.02426889 0.00312927\n",
      " 0.01233697 0.00621909]\n"
     ]
    }
   ],
   "source": [
    "##random forest## - set y as 'Plugs_CHAdeMO'\n",
    "\n",
    "X = df[['Power 1','charging_stations', 'Nearby EVStations', 'Hospitals', 'Parks', 'Restaurants', 'Malls', 'Supermarkets']]\n",
    "y = df['Plugs_CHAdeMO']\n",
    "\n",
    "X_train, X_test, y_train, y_test = train_test_split(X, y, test_size=0.2, random_state=42)\n",
    "\n",
    "# Create a Random Forest Regressor model and fit it to the training data\n",
    "rf_model = RandomForestRegressor(n_estimators=100, random_state=42)\n",
    "rf_model.fit(X_train, y_train)\n",
    "\n",
    "# Making predictions\n",
    "y_pred = rf_model.predict(X_test)\n",
    "\n",
    "# Calculating the performance metrics\n",
    "mse = mean_squared_error(y_test, y_pred)\n",
    "r2 = r2_score(y_test, y_pred)\n",
    "\n",
    "# Output the metrics\n",
    "print(f'R-squared: {r2}')\n",
    "print(f'Mean Squared Error: {mse}')\n",
    "\n",
    "# If you want to see feature importances\n",
    "feature_importances = rf_model.feature_importances_\n",
    "print(f'Feature Importances: {feature_importances}')\n"
   ]
  },
  {
   "cell_type": "markdown",
   "id": "aea731f1",
   "metadata": {},
   "source": [
    "## 4.Plugs_CCS/SAE"
   ]
  },
  {
   "cell_type": "code",
   "execution_count": 88,
   "id": "23d691a3",
   "metadata": {},
   "outputs": [
    {
     "name": "stdout",
     "output_type": "stream",
     "text": [
      "R-squared: 0.8734544767527676\n",
      "Mean Squared Error: 0.10989853164556962\n",
      "Feature Importances: [0.50479696 0.4039602  0.01558058 0.01681263 0.04117521 0.00367935\n",
      " 0.00705324 0.00694183]\n"
     ]
    }
   ],
   "source": [
    "##random forest## - set y as 'Plugs_CCS/SAE'\n",
    "\n",
    "X = df[['Power 1','charging_stations', 'Nearby EVStations', 'Hospitals', 'Parks', 'Restaurants', 'Malls', 'Supermarkets']]\n",
    "y = df['Plugs_CCS/SAE']\n",
    "\n",
    "X_train, X_test, y_train, y_test = train_test_split(X, y, test_size=0.2, random_state=42)\n",
    "\n",
    "# Create a Random Forest Regressor model and fit it to the training data\n",
    "rf_model = RandomForestRegressor(n_estimators=100, random_state=42)\n",
    "rf_model.fit(X_train, y_train)\n",
    "\n",
    "# Making predictions\n",
    "y_pred = rf_model.predict(X_test)\n",
    "\n",
    "# Calculating the performance metrics\n",
    "mse = mean_squared_error(y_test, y_pred)\n",
    "r2 = r2_score(y_test, y_pred)\n",
    "\n",
    "# Output the metrics\n",
    "print(f'R-squared: {r2}')\n",
    "print(f'Mean Squared Error: {mse}')\n",
    "\n",
    "# If you want to see feature importances\n",
    "feature_importances = rf_model.feature_importances_\n",
    "print(f'Feature Importances: {feature_importances}')"
   ]
  },
  {
   "cell_type": "markdown",
   "id": "57b472ac",
   "metadata": {},
   "source": [
    "## 5.Plugs_Tesla"
   ]
  },
  {
   "cell_type": "code",
   "execution_count": 89,
   "id": "9268265d",
   "metadata": {},
   "outputs": [
    {
     "name": "stdout",
     "output_type": "stream",
     "text": [
      "R-squared: 0.31901600258541074\n",
      "Mean Squared Error: 1.181710734177215\n",
      "Feature Importances: [0.65598947 0.14387207 0.04207457 0.02445433 0.0520006  0.01703172\n",
      " 0.03003595 0.0345413 ]\n"
     ]
    }
   ],
   "source": [
    "X = df[['Power 1','charging_stations', 'Nearby EVStations', 'Hospitals', 'Parks', 'Restaurants', 'Malls', 'Supermarkets']]\n",
    "y = df['Plugs_Tesla']\n",
    "\n",
    "X_train, X_test, y_train, y_test = train_test_split(X, y, test_size=0.2, random_state=42)\n",
    "\n",
    "# Create a Random Forest Regressor model and fit it to the training data\n",
    "rf_model = RandomForestRegressor(n_estimators=100, random_state=42)\n",
    "rf_model.fit(X_train, y_train)\n",
    "\n",
    "# Making predictions\n",
    "y_pred = rf_model.predict(X_test)\n",
    "\n",
    "# Calculating the performance metrics\n",
    "mse = mean_squared_error(y_test, y_pred)\n",
    "r2 = r2_score(y_test, y_pred)\n",
    "\n",
    "# Output the metrics\n",
    "print(f'R-squared: {r2}')\n",
    "print(f'Mean Squared Error: {mse}')\n",
    "\n",
    "# If you want to see feature importances\n",
    "feature_importances = rf_model.feature_importances_\n",
    "print(f'Feature Importances: {feature_importances}')"
   ]
  },
  {
   "cell_type": "markdown",
   "id": "ddc11ffd",
   "metadata": {},
   "source": [
    "## 6.Plugs_J-1772"
   ]
  },
  {
   "cell_type": "code",
   "execution_count": 90,
   "id": "4fa8d9bb",
   "metadata": {},
   "outputs": [
    {
     "name": "stdout",
     "output_type": "stream",
     "text": [
      "R-squared: -0.4525411324463262\n",
      "Mean Squared Error: 0.12314830379746834\n",
      "Feature Importances: [0.48565624 0.08195872 0.04435134 0.05677675 0.08193851 0.01647013\n",
      " 0.14302717 0.08982114]\n"
     ]
    }
   ],
   "source": [
    "X = df[['Power 1','charging_stations', 'Nearby EVStations', 'Hospitals', 'Parks', 'Restaurants', 'Malls', 'Supermarkets']]\n",
    "y = df['Plugs_J-1772']\n",
    "\n",
    "X_train, X_test, y_train, y_test = train_test_split(X, y, test_size=0.2, random_state=42)\n",
    "\n",
    "# Create a Random Forest Regressor model and fit it to the training data\n",
    "rf_model = RandomForestRegressor(n_estimators=100, random_state=42)\n",
    "rf_model.fit(X_train, y_train)\n",
    "\n",
    "# Making predictions\n",
    "y_pred = rf_model.predict(X_test)\n",
    "\n",
    "# Calculating the performance metrics\n",
    "mse = mean_squared_error(y_test, y_pred)\n",
    "r2 = r2_score(y_test, y_pred)\n",
    "\n",
    "# Output the metrics\n",
    "print(f'R-squared: {r2}')\n",
    "print(f'Mean Squared Error: {mse}')\n",
    "\n",
    "# If you want to see feature importances\n",
    "feature_importances = rf_model.feature_importances_\n",
    "print(f'Feature Importances: {feature_importances}')"
   ]
  },
  {
   "cell_type": "markdown",
   "id": "d80f5909",
   "metadata": {},
   "source": [
    "## 7.Plugs_Caravan_Mains_Socket"
   ]
  },
  {
   "cell_type": "code",
   "execution_count": 91,
   "id": "70bccbcb",
   "metadata": {},
   "outputs": [
    {
     "name": "stdout",
     "output_type": "stream",
     "text": [
      "R-squared: 0.0\n",
      "Mean Squared Error: 1.7721518987341772e-05\n",
      "Feature Importances: [0.31410027 0.08174816 0.03090947 0.         0.15162232 0.14756957\n",
      " 0.10592224 0.16812797]\n"
     ]
    }
   ],
   "source": [
    "X = df[['Power 1','charging_stations', 'Nearby EVStations', 'Hospitals', 'Parks', 'Restaurants', 'Malls', 'Supermarkets']]\n",
    "y = df['Plugs_Caravan_Mains_Socket']\n",
    "\n",
    "X_train, X_test, y_train, y_test = train_test_split(X, y, test_size=0.2, random_state=42)\n",
    "\n",
    "# Create a Random Forest Regressor model and fit it to the training data\n",
    "rf_model = RandomForestRegressor(n_estimators=100, random_state=42)\n",
    "rf_model.fit(X_train, y_train)\n",
    "\n",
    "# Making predictions\n",
    "y_pred = rf_model.predict(X_test)\n",
    "\n",
    "# Calculating the performance metrics\n",
    "mse = mean_squared_error(y_test, y_pred)\n",
    "r2 = r2_score(y_test, y_pred)\n",
    "\n",
    "# Output the metrics\n",
    "print(f'R-squared: {r2}')\n",
    "print(f'Mean Squared Error: {mse}')\n",
    "\n",
    "# If you want to see feature importances\n",
    "feature_importances = rf_model.feature_importances_\n",
    "print(f'Feature Importances: {feature_importances}')"
   ]
  },
  {
   "cell_type": "markdown",
   "id": "a3ee3b3e",
   "metadata": {},
   "source": [
    "## 8.Plugs_wall_AU/NZ"
   ]
  },
  {
   "cell_type": "code",
   "execution_count": 93,
   "id": "8fa23011",
   "metadata": {},
   "outputs": [
    {
     "name": "stdout",
     "output_type": "stream",
     "text": [
      "R-squared: 0.7022940015294906\n",
      "Mean Squared Error: 1.9960278481012663\n",
      "Feature Importances: [0.18460403 0.53149666 0.10925812 0.02770226 0.06482626 0.00895484\n",
      " 0.04472298 0.02843486]\n"
     ]
    }
   ],
   "source": [
    "X = df[['Power 1','charging_stations', 'Nearby EVStations', 'Hospitals', 'Parks', 'Restaurants', 'Malls', 'Supermarkets']]\n",
    "y = df['Plugs_wall_AU/NZ']\n",
    "\n",
    "X_train, X_test, y_train, y_test = train_test_split(X, y, test_size=0.2, random_state=42)\n",
    "\n",
    "# Create a Random Forest Regressor model and fit it to the training data\n",
    "rf_model = RandomForestRegressor(n_estimators=100, random_state=42)\n",
    "rf_model.fit(X_train, y_train)\n",
    "\n",
    "# Making predictions\n",
    "y_pred = rf_model.predict(X_test)\n",
    "\n",
    "# Calculating the performance metrics\n",
    "mse = mean_squared_error(y_test, y_pred)\n",
    "r2 = r2_score(y_test, y_pred)\n",
    "\n",
    "# Output the metrics\n",
    "print(f'R-squared: {r2}')\n",
    "print(f'Mean Squared Error: {mse}')\n",
    "\n",
    "# If you want to see feature importances\n",
    "feature_importances = rf_model.feature_importances_\n",
    "print(f'Feature Importances: {feature_importances}')"
   ]
  },
  {
   "cell_type": "markdown",
   "id": "2c6d784a",
   "metadata": {},
   "source": [
    "## Use different model :  K-Nearest Neighbors (KNN)"
   ]
  },
  {
   "cell_type": "markdown",
   "id": "99249e1f",
   "metadata": {},
   "source": [
    "## 1:Plugs_Type2"
   ]
  },
  {
   "cell_type": "code",
   "execution_count": 96,
   "id": "5cd5f9bb",
   "metadata": {},
   "outputs": [
    {
     "name": "stdout",
     "output_type": "stream",
     "text": [
      "R-squared: 0.30795856611473515\n",
      "Mean Squared Error: 3.0693063291139238\n"
     ]
    }
   ],
   "source": [
    "from sklearn.neighbors import KNeighborsRegressor\n",
    "\n",
    "##knn## - set y as 'Plugs_Type2'\n",
    "\n",
    "X = df[['Power 1','charging_stations', 'Nearby EVStations', 'Hospitals', 'Parks', 'Restaurants', 'Malls', 'Supermarkets']]\n",
    "y = df['Plugs_Type2']\n",
    "\n",
    "X_train, X_test, y_train, y_test = train_test_split(X, y, test_size=0.2, random_state=42)\n",
    "\n",
    "# Standardize features by removing the mean and scaling to unit variance\n",
    "scaler = StandardScaler().fit(X_train)\n",
    "X_train = scaler.transform(X_train)\n",
    "X_test = scaler.transform(X_test)\n",
    "\n",
    "# Initialize KNN regressor with k=5 (you can change k as needed)\n",
    "knn = KNeighborsRegressor(n_neighbors=5)\n",
    "\n",
    "# Fit the model\n",
    "knn.fit(X_train, y_train)\n",
    "\n",
    "# Make predictions\n",
    "y_pred = knn.predict(X_test)\n",
    "\n",
    "# Calculate the performance\n",
    "mse = mean_squared_error(y_test, y_pred)\n",
    "r2 = r2_score(y_test, y_pred)\n",
    "\n",
    "print(f\"R-squared: {r2}\")\n",
    "print(f\"Mean Squared Error: {mse}\")"
   ]
  },
  {
   "cell_type": "markdown",
   "id": "8e9d55c5",
   "metadata": {},
   "source": [
    "## 2:Plugs_Three_Phase"
   ]
  },
  {
   "cell_type": "code",
   "execution_count": 97,
   "id": "1cd9f18f",
   "metadata": {},
   "outputs": [
    {
     "name": "stdout",
     "output_type": "stream",
     "text": [
      "R-squared: -14.192307692307702\n",
      "Mean Squared Error: 0.007594936708860761\n"
     ]
    }
   ],
   "source": [
    "##knn## - set y as 'Plugs_Three_Phase'\n",
    "\n",
    "X = df[['Power 1','charging_stations', 'Nearby EVStations', 'Hospitals', 'Parks', 'Restaurants', 'Malls', 'Supermarkets']]\n",
    "y = df['Plugs_Three_Phase']\n",
    "\n",
    "X_train, X_test, y_train, y_test = train_test_split(X, y, test_size=0.2, random_state=42)\n",
    "\n",
    "# Standardize features by removing the mean and scaling to unit variance\n",
    "scaler = StandardScaler().fit(X_train)\n",
    "X_train = scaler.transform(X_train)\n",
    "X_test = scaler.transform(X_test)\n",
    "\n",
    "# Initialize KNN regressor with k=5 (you can change k as needed)\n",
    "knn = KNeighborsRegressor(n_neighbors=5)\n",
    "\n",
    "# Fit the model\n",
    "knn.fit(X_train, y_train)\n",
    "\n",
    "# Make predictions\n",
    "y_pred = knn.predict(X_test)\n",
    "\n",
    "# Calculate the performance\n",
    "mse = mean_squared_error(y_test, y_pred)\n",
    "r2 = r2_score(y_test, y_pred)\n",
    "\n",
    "print(f\"R-squared: {r2}\")\n",
    "print(f\"Mean Squared Error: {mse}\")"
   ]
  },
  {
   "cell_type": "markdown",
   "id": "482d0b6d",
   "metadata": {},
   "source": [
    "## 3.Plugs_CHAdeMO"
   ]
  },
  {
   "cell_type": "code",
   "execution_count": 98,
   "id": "a8cba9e5",
   "metadata": {},
   "outputs": [
    {
     "name": "stdout",
     "output_type": "stream",
     "text": [
      "R-squared: 0.35101295336787564\n",
      "Mean Squared Error: 0.3211139240506329\n"
     ]
    }
   ],
   "source": [
    "##knn## - set y as 'Plugs_CHAdeMO'\n",
    "\n",
    "X = df[['Power 1','charging_stations', 'Nearby EVStations', 'Hospitals', 'Parks', 'Restaurants', 'Malls', 'Supermarkets']]\n",
    "y = df['Plugs_CHAdeMO']\n",
    "X_train, X_test, y_train, y_test = train_test_split(X, y, test_size=0.2, random_state=42)\n",
    "\n",
    "# Standardize features by removing the mean and scaling to unit variance\n",
    "scaler = StandardScaler().fit(X_train)\n",
    "X_train = scaler.transform(X_train)\n",
    "X_test = scaler.transform(X_test)\n",
    "\n",
    "# Initialize KNN regressor with k=5 (you can change k as needed)\n",
    "knn = KNeighborsRegressor(n_neighbors=5)\n",
    "\n",
    "# Fit the model\n",
    "knn.fit(X_train, y_train)\n",
    "\n",
    "# Make predictions\n",
    "y_pred = knn.predict(X_test)\n",
    "\n",
    "# Calculate the performance\n",
    "mse = mean_squared_error(y_test, y_pred)\n",
    "r2 = r2_score(y_test, y_pred)\n",
    "\n",
    "print(f\"R-squared: {r2}\")\n",
    "print(f\"Mean Squared Error: {mse}\")"
   ]
  },
  {
   "cell_type": "markdown",
   "id": "124eeee1",
   "metadata": {},
   "source": [
    "## 4.Plugs_CCS/SAE"
   ]
  },
  {
   "cell_type": "code",
   "execution_count": 99,
   "id": "af4795dd",
   "metadata": {},
   "outputs": [
    {
     "name": "stdout",
     "output_type": "stream",
     "text": [
      "R-squared: 0.37338715867158667\n",
      "Mean Squared Error: 0.5441822784810125\n"
     ]
    }
   ],
   "source": [
    "##knn## - set y as 'Plugs_CHAdeMO'\n",
    "\n",
    "X = df[['Power 1','charging_stations', 'Nearby EVStations', 'Hospitals', 'Parks', 'Restaurants', 'Malls', 'Supermarkets']]\n",
    "y = df['Plugs_CCS/SAE']\n",
    "X_train, X_test, y_train, y_test = train_test_split(X, y, test_size=0.2, random_state=42)\n",
    "\n",
    "# Standardize features by removing the mean and scaling to unit variance\n",
    "scaler = StandardScaler().fit(X_train)\n",
    "X_train = scaler.transform(X_train)\n",
    "X_test = scaler.transform(X_test)\n",
    "\n",
    "# Initialize KNN regressor with k=5 (you can change k as needed)\n",
    "knn = KNeighborsRegressor(n_neighbors=5)\n",
    "\n",
    "# Fit the model\n",
    "knn.fit(X_train, y_train)\n",
    "\n",
    "# Make predictions\n",
    "y_pred = knn.predict(X_test)\n",
    "\n",
    "# Calculate the performance\n",
    "mse = mean_squared_error(y_test, y_pred)\n",
    "r2 = r2_score(y_test, y_pred)\n",
    "\n",
    "print(f\"R-squared: {r2}\")\n",
    "print(f\"Mean Squared Error: {mse}\")"
   ]
  },
  {
   "cell_type": "markdown",
   "id": "dc44ee44",
   "metadata": {},
   "source": [
    "## 5.Plugs_Tesla"
   ]
  },
  {
   "cell_type": "code",
   "execution_count": 100,
   "id": "505b1952",
   "metadata": {},
   "outputs": [
    {
     "name": "stdout",
     "output_type": "stream",
     "text": [
      "R-squared: 0.3499561957525389\n",
      "Mean Squared Error: 1.1280202531645571\n"
     ]
    }
   ],
   "source": [
    "##knn## - set y as 'Plugs_Tesla'\n",
    "\n",
    "X = df[['Power 1','charging_stations', 'Nearby EVStations', 'Hospitals', 'Parks', 'Restaurants', 'Malls', 'Supermarkets']]\n",
    "y = df['Plugs_Tesla']\n",
    "X_train, X_test, y_train, y_test = train_test_split(X, y, test_size=0.2, random_state=42)\n",
    "\n",
    "# Standardize features by removing the mean and scaling to unit variance\n",
    "scaler = StandardScaler().fit(X_train)\n",
    "X_train = scaler.transform(X_train)\n",
    "X_test = scaler.transform(X_test)\n",
    "\n",
    "# Initialize KNN regressor with k=5 (you can change k as needed)\n",
    "knn = KNeighborsRegressor(n_neighbors=5)\n",
    "\n",
    "# Fit the model\n",
    "knn.fit(X_train, y_train)\n",
    "\n",
    "# Make predictions\n",
    "y_pred = knn.predict(X_test)\n",
    "\n",
    "# Calculate the performance\n",
    "mse = mean_squared_error(y_test, y_pred)\n",
    "r2 = r2_score(y_test, y_pred)\n",
    "\n",
    "print(f\"R-squared: {r2}\")\n",
    "print(f\"Mean Squared Error: {mse}\")"
   ]
  },
  {
   "cell_type": "markdown",
   "id": "70c30df5",
   "metadata": {},
   "source": [
    "## 6.Plugs_J-1772"
   ]
  },
  {
   "cell_type": "code",
   "execution_count": 101,
   "id": "a0b01edc",
   "metadata": {},
   "outputs": [
    {
     "name": "stdout",
     "output_type": "stream",
     "text": [
      "R-squared: -0.5589779256123382\n",
      "Mean Squared Error: 0.13217215189873419\n"
     ]
    }
   ],
   "source": [
    "##knn## - set y as 'Plugs_J-1772'\n",
    "\n",
    "X = df[['Power 1','charging_stations', 'Nearby EVStations', 'Hospitals', 'Parks', 'Restaurants', 'Malls', 'Supermarkets']]\n",
    "y = df['Plugs_J-1772']\n",
    "\n",
    "X_train, X_test, y_train, y_test = train_test_split(X, y, test_size=0.2, random_state=42)\n",
    "\n",
    "# Standardize features by removing the mean and scaling to unit variance\n",
    "scaler = StandardScaler().fit(X_train)\n",
    "X_train = scaler.transform(X_train)\n",
    "X_test = scaler.transform(X_test)\n",
    "\n",
    "# Initialize KNN regressor with k=5 (you can change k as needed)\n",
    "knn = KNeighborsRegressor(n_neighbors=5)\n",
    "\n",
    "# Fit the model\n",
    "knn.fit(X_train, y_train)\n",
    "\n",
    "# Make predictions\n",
    "y_pred = knn.predict(X_test)\n",
    "\n",
    "# Calculate the performance\n",
    "mse = mean_squared_error(y_test, y_pred)\n",
    "r2 = r2_score(y_test, y_pred)\n",
    "\n",
    "print(f\"R-squared: {r2}\")\n",
    "print(f\"Mean Squared Error: {mse}\")"
   ]
  },
  {
   "cell_type": "markdown",
   "id": "bee3d4d3",
   "metadata": {},
   "source": [
    "## 7.Plugs_Caravan_Mains_Socket"
   ]
  },
  {
   "cell_type": "code",
   "execution_count": 103,
   "id": "6617b0bd",
   "metadata": {},
   "outputs": [
    {
     "name": "stdout",
     "output_type": "stream",
     "text": [
      "R-squared: 0.0\n",
      "Mean Squared Error: 0.0005063291139240508\n"
     ]
    }
   ],
   "source": [
    "##knn## - set y as 'Plugs_Caravan_Mains_Socket'\n",
    "\n",
    "X = df[['Power 1','charging_stations', 'Nearby EVStations', 'Hospitals', 'Parks', 'Restaurants', 'Malls', 'Supermarkets']]\n",
    "y = df['Plugs_Caravan_Mains_Socket']\n",
    "\n",
    "X_train, X_test, y_train, y_test = train_test_split(X, y, test_size=0.2, random_state=42)\n",
    "\n",
    "# Standardize features by removing the mean and scaling to unit variance\n",
    "scaler = StandardScaler().fit(X_train)\n",
    "X_train = scaler.transform(X_train)\n",
    "X_test = scaler.transform(X_test)\n",
    "\n",
    "# Initialize KNN regressor with k=5 (you can change k as needed)\n",
    "knn = KNeighborsRegressor(n_neighbors=5)\n",
    "\n",
    "# Fit the model\n",
    "knn.fit(X_train, y_train)\n",
    "\n",
    "# Make predictions\n",
    "y_pred = knn.predict(X_test)\n",
    "\n",
    "# Calculate the performance\n",
    "mse = mean_squared_error(y_test, y_pred)\n",
    "r2 = r2_score(y_test, y_pred)\n",
    "\n",
    "print(f\"R-squared: {r2}\")\n",
    "print(f\"Mean Squared Error: {mse}\")"
   ]
  },
  {
   "cell_type": "markdown",
   "id": "d1cd20c3",
   "metadata": {},
   "source": [
    "## 8. Plugs_wall_AU/NZ"
   ]
  },
  {
   "cell_type": "code",
   "execution_count": 104,
   "id": "bfd53e4b",
   "metadata": {},
   "outputs": [
    {
     "name": "stdout",
     "output_type": "stream",
     "text": [
      "R-squared: 0.2593891597361633\n",
      "Mean Squared Error: 4.965569620253166\n"
     ]
    }
   ],
   "source": [
    "##knn## - set y as 'Plugs_wall_AU/NZ'\n",
    "\n",
    "X = df[['Power 1','charging_stations', 'Nearby EVStations', 'Hospitals', 'Parks', 'Restaurants', 'Malls', 'Supermarkets']]\n",
    "y = df['Plugs_wall_AU/NZ']\n",
    "\n",
    "X_train, X_test, y_train, y_test = train_test_split(X, y, test_size=0.2, random_state=42)\n",
    "\n",
    "# Standardize features by removing the mean and scaling to unit variance\n",
    "scaler = StandardScaler().fit(X_train)\n",
    "X_train = scaler.transform(X_train)\n",
    "X_test = scaler.transform(X_test)\n",
    "\n",
    "# Initialize KNN regressor with k=5 (you can change k as needed)\n",
    "knn = KNeighborsRegressor(n_neighbors=5)\n",
    "\n",
    "# Fit the model\n",
    "knn.fit(X_train, y_train)\n",
    "\n",
    "# Make predictions\n",
    "y_pred = knn.predict(X_test)\n",
    "\n",
    "# Calculate the performance\n",
    "mse = mean_squared_error(y_test, y_pred)\n",
    "r2 = r2_score(y_test, y_pred)\n",
    "\n",
    "print(f\"R-squared: {r2}\")\n",
    "print(f\"Mean Squared Error: {mse}\")"
   ]
  },
  {
   "cell_type": "code",
   "execution_count": null,
   "id": "79aff952",
   "metadata": {},
   "outputs": [],
   "source": []
  }
 ],
 "metadata": {
  "kernelspec": {
   "display_name": "Python 3 (ipykernel)",
   "language": "python",
   "name": "python3"
  },
  "language_info": {
   "codemirror_mode": {
    "name": "ipython",
    "version": 3
   },
   "file_extension": ".py",
   "mimetype": "text/x-python",
   "name": "python",
   "nbconvert_exporter": "python",
   "pygments_lexer": "ipython3",
   "version": "3.9.12"
  }
 },
 "nbformat": 4,
 "nbformat_minor": 5
}
