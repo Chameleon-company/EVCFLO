{
 "cells": [
  {
   "cell_type": "markdown",
   "id": "c5e3335f",
   "metadata": {},
   "source": [
    "# Make VSCode Coordinates\n",
    "#### Generates a set of coordinates and spans based on north, south, east and west points of a given bounding box. These coordinates can then be placed in the VSCode section inside the VSCode scan (PlugShare) excel file accessible through the developer tab."
   ]
  },
  {
   "cell_type": "code",
   "execution_count": 2,
   "id": "bd96422b",
   "metadata": {},
   "outputs": [
    {
     "name": "stdout",
     "output_type": "stream",
     "text": [
      "Latitude: -37.98857063898225 , Longitude: 144.838764067635\n",
      "1.1234255466346497\n",
      "1.2030029380138103\n"
     ]
    }
   ],
   "source": [
    "north = -37.42685786566493 #Smaller Lat\n",
    "south = -38.55028341229958 #Larger Lat\n",
    "east = 144.2372625986281 #Larger Long\n",
    "west = 145.4402655366419 #Smaller Long\n",
    "\n",
    "midpoint = (north + south) / 2, (east + west) / 2\n",
    "spanLat = north - south\n",
    "spanLong = west - east\n",
    "\n",
    "print(\"Latitude:\", midpoint[0], \", Longitude:\", midpoint[1])\n",
    "print(\"spanLat:\",spanLat)\n",
    "print(\"SspanLong)"
   ]
  },
  {
   "cell_type": "code",
   "execution_count": null,
   "id": "b0eb66a1",
   "metadata": {},
   "outputs": [],
   "source": []
  }
 ],
 "metadata": {
  "kernelspec": {
   "display_name": "Python 3 (ipykernel)",
   "language": "python",
   "name": "python3"
  },
  "language_info": {
   "codemirror_mode": {
    "name": "ipython",
    "version": 3
   },
   "file_extension": ".py",
   "mimetype": "text/x-python",
   "name": "python",
   "nbconvert_exporter": "python",
   "pygments_lexer": "ipython3",
   "version": "3.9.7"
  }
 },
 "nbformat": 4,
 "nbformat_minor": 5
}
