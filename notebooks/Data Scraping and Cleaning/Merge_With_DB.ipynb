{
 "cells": [
  {
   "cell_type": "code",
   "execution_count": null,
   "id": "4573fef3",
   "metadata": {},
   "outputs": [],
   "source": [
    "#Write code to compare new dataset with existing dataset files to remove duplicates and enrich current locations if\n",
    "#matching ones are found"
   ]
  },
  {
   "cell_type": "code",
   "execution_count": null,
   "id": "dc1152a2",
   "metadata": {},
   "outputs": [],
   "source": [
    "# - First make sure new dataset is in correct formating, Google_API datasets will already be so\n",
    "# - Pull master dataset from mongodb using credentials\n",
    "# - Main analysis to be performed by comparing longs and lats. If longs and lats are shared or a only a few decimal places\n",
    "#   off further look analysis into shared columns and if values are similar enough either drop one datasource or merge\n",
    "#   old and new datasource into new row deleting the old one"
   ]
  }
 ],
 "metadata": {
  "kernelspec": {
   "display_name": "Python 3 (ipykernel)",
   "language": "python",
   "name": "python3"
  },
  "language_info": {
   "codemirror_mode": {
    "name": "ipython",
    "version": 3
   },
   "file_extension": ".py",
   "mimetype": "text/x-python",
   "name": "python",
   "nbconvert_exporter": "python",
   "pygments_lexer": "ipython3",
   "version": "3.9.7"
  }
 },
 "nbformat": 4,
 "nbformat_minor": 5
}
